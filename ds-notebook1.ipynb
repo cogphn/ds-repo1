{
    "cells": [
        {
            "metadata": {},
            "cell_type": "code",
            "source": "import pandas as pd \nfrom datetime import datetime \n\ndtnow = datetime.now()\ndt = dtnow.strftime(\"%Y-%m-%d %H:%M:%S\")\nprint(f\"[{dt}] Ready.\")",
            "execution_count": 11,
            "outputs": [
                {
                    "output_type": "stream",
                    "text": "[2022-03-26 02:55:26] Ready.\n",
                    "name": "stdout"
                }
            ]
        }
    ],
    "metadata": {
        "kernelspec": {
            "name": "python3",
            "display_name": "Python 3.9",
            "language": "python"
        },
        "language_info": {
            "name": "python",
            "version": "3.9.7",
            "mimetype": "text/x-python",
            "codemirror_mode": {
                "name": "ipython",
                "version": 3
            },
            "pygments_lexer": "ipython3",
            "nbconvert_exporter": "python",
            "file_extension": ".py"
        }
    },
    "nbformat": 4,
    "nbformat_minor": 1
}